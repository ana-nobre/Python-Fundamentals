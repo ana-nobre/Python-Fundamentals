{
 "cells": [
  {
   "cell_type": "markdown",
   "id": "e84523a1",
   "metadata": {},
   "source": [
    "# 🔤 Word Guessing Game\n",
    "\n",
    "### 📌 Game Rules\n",
    "- One player chooses a secret word and draws a blank space for each letter of the word.  \n",
    "- The other player tries to guess letters to complete the word.  \n",
    "- If the guessing player guesses a letter correctly, it is revealed in its correct position.  \n",
    "- If the guessing player guesses incorrectly, a part of the body is drawn on the gallows.  \n",
    "- The objective of the guessing player is to guess the word before the full figure is drawn.  \n",
    "\n",
    "---\n",
    "\n",
    "### 💡 Suggested Steps\n",
    "1. Start by selecting a secret word for the guessing player. You can create a list of words.  \n",
    "2. Initialize the game board with underscores (`\"_\"`) to represent unguessed letters.  \n",
    "3. Use a `while` loop to allow the guessing player multiple attempts until they guess the word or run out of tries.  \n",
    "4. Check if the guessed letter is in the secret word and update the board accordingly.  \n",
    "5. Keep track of guessed letters and failed attempts.  \n",
    "6. Define win and loss conditions, and exit the loop when those conditions are met.  \n"
   ]
  },
  {
   "cell_type": "code",
   "execution_count": null,
   "id": "b7b8d8c9",
   "metadata": {},
   "outputs": [
    {
     "name": "stdout",
     "output_type": "stream",
     "text": [
      "Welcome to the Word Guessing Game\n",
      "Ana, guess the 6-letter word: _ _ _ _ _ _\n",
      "_ _ _ _ _ n\n",
      "p _ _ _ _ n\n",
      "p _ t _ _ n\n",
      "p _ t _ o n\n",
      "p y t _ o n\n",
      "p y t h o n\n",
      "You guessed all the letters! The secret word was: python\n",
      "Ana wins the game 🎉\n"
     ]
    }
   ],
   "source": [
    "print('Welcome to the Word Guessing Game')\n",
    "guesser = input('Enter the name of the guessing player: ').capitalize()\n",
    "word_setter = input('Enter the name of the player who will set the secret word: ').capitalize()\n",
    "\n",
    "secret_word = input(f'{word_setter}, what is your secret word? ').lower()\n",
    "\n",
    "# underscores for each letter\n",
    "hidden_word = list(\"_\" * len(secret_word))\n",
    "print(f\"{guesser}, guess the {len(secret_word)}-letter word: {' '.join(hidden_word)}\")       # join() is used to combine the elements of a list into a single string, with a chosen separator between them.\n",
    "\n",
    "attempts = 6\n",
    "\n",
    "while attempts != 0:\n",
    "    guess = input('Enter a letter or the full secret word: ').lower()\n",
    "\n",
    "    if guess == secret_word:\n",
    "        print(f'You got it! The secret word was: {secret_word}')\n",
    "        print(f'{guesser} wins the game 🎉')\n",
    "        break\n",
    "    elif guess in secret_word:\n",
    "        for i, letter in enumerate(secret_word):\n",
    "            if letter == guess:\n",
    "                hidden_word[i] = guess\n",
    "        print(' '.join(hidden_word))\n",
    "        \n",
    "        # check if the word is completely guessed\n",
    "        if \"\".join(hidden_word) == secret_word: \n",
    "            print(f'You guessed all the letters! The secret word was: {secret_word}')\n",
    "            print(f'{guesser} wins the game 🎉')\n",
    "            break \n",
    "        continue\n",
    "    elif attempts == 1:\n",
    "        print(f'Oh no! You lost, {word_setter} wins the game 💀')\n",
    "        break\n",
    "    else:\n",
    "        attempts -= 1\n",
    "        print(f'Wrong, try again. You have {attempts} attempts left')\n"
   ]
  }
 ],
 "metadata": {
  "kernelspec": {
   "display_name": "Python 3",
   "language": "python",
   "name": "python3"
  },
  "language_info": {
   "codemirror_mode": {
    "name": "ipython",
    "version": 3
   },
   "file_extension": ".py",
   "mimetype": "text/x-python",
   "name": "python",
   "nbconvert_exporter": "python",
   "pygments_lexer": "ipython3",
   "version": "3.13.3"
  }
 },
 "nbformat": 4,
 "nbformat_minor": 5
}
