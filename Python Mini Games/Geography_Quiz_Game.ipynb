{
 "cells": [
  {
   "cell_type": "markdown",
   "id": "980d6984",
   "metadata": {},
   "source": [
    "# 🌍 Geography Quiz Game\n",
    "\n",
    "### 📌 Game Rules\n",
    "A quiz game about **geography questions**, built in Python.  \n",
    "The player has a limited number of attempts to answer correctly.\n",
    "\n",
    "- The player must answer random geography questions.  \n",
    "- **Winning condition**: 5 correct answers.  \n",
    "- **Losing condition**: 3 incorrect answers.  \n",
    "- Each player starts with **5 correct attempts available** and **3 wrong attempts allowed**.  \n",
    "\n",
    "---\n",
    "\n",
    "### 💡 Implementation Hints\n",
    "1. Create a dictionary that stores questions as keys and answers as values.  \n",
    "2. Use `random.choice` to select a random question.  \n",
    "3. Track both correct and incorrect attempts with counters (`correct_attempts = 5`, `wrong_attempts = 3`).  \n",
    "4. Use a `while` loop to continue asking questions until one of the end conditions is met.  \n",
    "5. Check if the answer matches, update counters accordingly, and print feedback.  \n",
    "6. Exit the loop and declare win or loss when conditions are met.  \n"
   ]
  },
  {
   "cell_type": "code",
   "execution_count": 4,
   "id": "f73d17b3",
   "metadata": {},
   "outputs": [
    {
     "name": "stdout",
     "output_type": "stream",
     "text": [
      "Correct answer: Germany\n",
      "You now have 1 correct answers\n",
      "Correct answer: South America\n",
      "You now have 2 correct answers\n",
      "Correct answer: India\n",
      "You now have 3 correct answers\n",
      "Correct answer: Africa\n",
      "You now have 4 correct answers\n",
      "Correct answer: Japan\n",
      "You now have 5 correct answers\n",
      "You won.\n"
     ]
    }
   ],
   "source": [
    "quiz = {\n",
    "    \"On which continent is Mount Everest located?\": \"Asia\",\n",
    "    \"What is the largest country in the Americas?\": \"Canada\",\n",
    "    \"On which continent can you see the most penguins?\": \"Antarctica\",\n",
    "    \"In which country is the Eiffel Tower located?\": \"France\",\n",
    "    \"Berlin is the capital of?\": \"Germany\",\n",
    "    \"From which country do the Samurais come?\": \"Japan\",\n",
    "    \"Where would you go if you wanted to see kangaroos?\": \"Australia\",\n",
    "    \"On which continent is the Sahara Desert located?\": \"Africa\",\n",
    "    \"In which country is it a tradition to paint your face on the Day of the Dead?\": \"Mexico\",\n",
    "    \"Tikka Masala is a traditional dish from...?\": \"India\",\n",
    "    \"On which continent is the Amazon Rainforest mainly located?\": \"South America\"\n",
    "}\n",
    "\n",
    "import random\n",
    "correct_attempts = 5\n",
    "wrong_attempts = 3\n",
    "correct = 0\n",
    "wrong = 0\n",
    "\n",
    "while correct_attempts != 0 and wrong_attempts != 0:\n",
    "    random_question = random.choice(list(quiz.keys()))      # random.choice needs to receive a list, but quiz is a dictionary. Because of that, it is necessary to convert it using list(quiz.keys()).\n",
    "    correct_answer = quiz[random_question]\n",
    "    choice = (input(random_question)).title()\n",
    "\n",
    "    if choice == correct_answer:\n",
    "        print(f\"Correct answer: {correct_answer}\")\n",
    "        correct += 1\n",
    "        correct_attempts -= 1\n",
    "        print(f\"You now have {correct} correct answers\")\n",
    "    else:\n",
    "        print(\"Bad luck, try again\")\n",
    "        wrong += 1\n",
    "        wrong_attempts -= 1\n",
    "        print(f\"You now have {wrong} wrong answers\")\n",
    "\n",
    "if correct == 5:\n",
    "    print(\"You won.\")\n",
    "else:\n",
    "    print(\"You lost.\")\n"
   ]
  },
  {
   "cell_type": "code",
   "execution_count": 5,
   "id": "802a798d",
   "metadata": {},
   "outputs": [],
   "source": [
    "# Function - Apply the same logic to another set of questions and answers\n",
    " \n",
    "def quiz_game(dic_q_a):\n",
    "    print(dic_q_a)\n",
    "    import random\n",
    "    correct_attempts = 5\n",
    "    wrong_attempts = 3\n",
    "    correct = 0\n",
    "    wrong = 0\n",
    "\n",
    "    while correct_attempts != 0 and wrong_attempts != 0:\n",
    "        random_question = random.choice(list(dic_q_a.keys()))\n",
    "        correct_answer = dic_q_a[random_question]\n",
    "        choice = (input(random_question)).title()\n",
    "\n",
    "        if choice == correct_answer:\n",
    "            print(f\"Correct answer: {correct_answer}\")\n",
    "            correct += 1\n",
    "            correct_attempts -= 1\n",
    "            print(f\"You now have {correct} correct answers\")\n",
    "        else:\n",
    "            print(\"Bad luck, try again\")\n",
    "            wrong += 1\n",
    "            wrong_attempts -= 1\n",
    "            print(f\"You now have {wrong} wrong answers\")\n",
    "\n",
    "    if correct == 5:\n",
    "        print(\"You won.\")\n",
    "    else:\n",
    "        print(\"You lost.\")\n"
   ]
  },
  {
   "cell_type": "code",
   "execution_count": 6,
   "id": "d633be44",
   "metadata": {},
   "outputs": [
    {
     "name": "stdout",
     "output_type": "stream",
     "text": [
      "{'On which continent is Mount Everest located?': 'Asia', 'What is the largest country in the Americas?': 'Canada', 'On which continent can you see the most penguins?': 'Antarctica', 'In which country is the Eiffel Tower located?': 'France', 'Berlin is the capital of?': 'Germany', 'From which country do the Samurais come?': 'Japan', 'Where would you go if you wanted to see kangaroos?': 'Australia', 'On which continent is the Sahara Desert located?': 'Africa', 'In which country is it a tradition to paint your face on the Day of the Dead?': 'Mexico', 'Tikka Masala is a traditional dish from...?': 'India', 'On which continent is the Amazon Rainforest mainly located?': 'South America'}\n",
      "Bad luck, try again\n",
      "You now have 1 wrong answers\n",
      "Correct answer: Germany\n",
      "You now have 1 correct answers\n",
      "Correct answer: Mexico\n",
      "You now have 2 correct answers\n",
      "Correct answer: Africa\n",
      "You now have 3 correct answers\n",
      "Correct answer: Canada\n",
      "You now have 4 correct answers\n",
      "Bad luck, try again\n",
      "You now have 2 wrong answers\n",
      "Correct answer: Asia\n",
      "You now have 5 correct answers\n",
      "You won.\n"
     ]
    }
   ],
   "source": [
    "quiz_game(quiz)"
   ]
  }
 ],
 "metadata": {
  "kernelspec": {
   "display_name": "Python 3",
   "language": "python",
   "name": "python3"
  },
  "language_info": {
   "codemirror_mode": {
    "name": "ipython",
    "version": 3
   },
   "file_extension": ".py",
   "mimetype": "text/x-python",
   "name": "python",
   "nbconvert_exporter": "python",
   "pygments_lexer": "ipython3",
   "version": "3.13.3"
  }
 },
 "nbformat": 4,
 "nbformat_minor": 5
}
